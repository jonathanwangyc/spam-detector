{
 "cells": [
  {
   "cell_type": "code",
   "execution_count": 48,
   "metadata": {},
   "outputs": [],
   "source": [
    "import pandas as pd\n",
    "import tensorflow as tf\n",
    "import matplotlib.pyplot as plt\n",
    "from sklearn.model_selection import train_test_split\n",
    "from tensorflow.keras.preprocessing.text import Tokenizer\n",
    "from tensorflow.keras.preprocessing.sequence import pad_sequences"
   ]
  },
  {
   "cell_type": "code",
   "execution_count": 31,
   "metadata": {},
   "outputs": [],
   "source": [
    "#import dataset\n",
    "df = pd.read_csv(\"spam.csv\", encoding=\"latin-1\")"
   ]
  },
  {
   "cell_type": "code",
   "execution_count": 32,
   "metadata": {},
   "outputs": [],
   "source": [
    "df = df.drop(['Unnamed: 2', 'Unnamed: 3', 'Unnamed: 4'], axis=1)\n",
    "df = df.rename(columns={'v1': 'label', 'v2': 'text'})\n",
    "df['spam_label'] = df['label'].map({'ham': 0,'spam': 1})"
   ]
  },
  {
   "cell_type": "code",
   "execution_count": 33,
   "metadata": {},
   "outputs": [
    {
     "data": {
      "text/html": [
       "<div>\n",
       "<style scoped>\n",
       "    .dataframe tbody tr th:only-of-type {\n",
       "        vertical-align: middle;\n",
       "    }\n",
       "\n",
       "    .dataframe tbody tr th {\n",
       "        vertical-align: top;\n",
       "    }\n",
       "\n",
       "    .dataframe thead th {\n",
       "        text-align: right;\n",
       "    }\n",
       "</style>\n",
       "<table border=\"1\" class=\"dataframe\">\n",
       "  <thead>\n",
       "    <tr style=\"text-align: right;\">\n",
       "      <th></th>\n",
       "      <th>label</th>\n",
       "      <th>text</th>\n",
       "      <th>spam_label</th>\n",
       "    </tr>\n",
       "  </thead>\n",
       "  <tbody>\n",
       "    <tr>\n",
       "      <th>0</th>\n",
       "      <td>ham</td>\n",
       "      <td>Go until jurong point, crazy.. Available only ...</td>\n",
       "      <td>0</td>\n",
       "    </tr>\n",
       "    <tr>\n",
       "      <th>1</th>\n",
       "      <td>ham</td>\n",
       "      <td>Ok lar... Joking wif u oni...</td>\n",
       "      <td>0</td>\n",
       "    </tr>\n",
       "    <tr>\n",
       "      <th>2</th>\n",
       "      <td>spam</td>\n",
       "      <td>Free entry in 2 a wkly comp to win FA Cup fina...</td>\n",
       "      <td>1</td>\n",
       "    </tr>\n",
       "    <tr>\n",
       "      <th>3</th>\n",
       "      <td>ham</td>\n",
       "      <td>U dun say so early hor... U c already then say...</td>\n",
       "      <td>0</td>\n",
       "    </tr>\n",
       "    <tr>\n",
       "      <th>4</th>\n",
       "      <td>ham</td>\n",
       "      <td>Nah I don't think he goes to usf, he lives aro...</td>\n",
       "      <td>0</td>\n",
       "    </tr>\n",
       "  </tbody>\n",
       "</table>\n",
       "</div>"
      ],
      "text/plain": [
       "  label                                               text  spam_label\n",
       "0   ham  Go until jurong point, crazy.. Available only ...           0\n",
       "1   ham                      Ok lar... Joking wif u oni...           0\n",
       "2  spam  Free entry in 2 a wkly comp to win FA Cup fina...           1\n",
       "3   ham  U dun say so early hor... U c already then say...           0\n",
       "4   ham  Nah I don't think he goes to usf, he lives aro...           0"
      ]
     },
     "execution_count": 33,
     "metadata": {},
     "output_type": "execute_result"
    }
   ],
   "source": [
    "df.head()"
   ]
  },
  {
   "cell_type": "code",
   "execution_count": 34,
   "metadata": {},
   "outputs": [],
   "source": [
    "#splitting data into training and testing dataset\n",
    "X_train, X_test, y_train, y_test = train_test_split(df['text'], df['spam_label'], test_size=0.2, random_state=41)"
   ]
  },
  {
   "cell_type": "code",
   "execution_count": 37,
   "metadata": {},
   "outputs": [],
   "source": [
    "#text tokenization\n",
    "vocab_size = 1000\n",
    "max_length = 50\n",
    "oov_tok = '<OOV>'\n",
    "trunc_type = 'post'\n",
    "padding_type = 'post'\n",
    "\n",
    "tokenizer = Tokenizer(num_words=vocab_size, lower=True, oov_token=oov_tok)\n",
    "tokenizer.fit_on_texts(X_train)\n",
    "\n",
    "word_index = tokenizer.word_index\n",
    "# word_index"
   ]
  },
  {
   "cell_type": "code",
   "execution_count": 39,
   "metadata": {},
   "outputs": [],
   "source": [
    "#add paddings for the model\n",
    "train_seq = tokenizer.texts_to_sequences(X_train)\n",
    "test_seq = tokenizer.texts_to_sequences(X_test)\n",
    "\n",
    "train_pad = pad_sequences(train_seq, maxlen=max_length, padding=padding_type, truncating=trunc_type)\n",
    "test_pad = pad_sequences(test_seq, maxlen=max_length, padding=padding_type, truncating=trunc_type)"
   ]
  },
  {
   "cell_type": "code",
   "execution_count": 44,
   "metadata": {},
   "outputs": [],
   "source": [
    "#building model\n",
    "model = tf.keras.models.Sequential([\n",
    "    tf.keras.layers.Embedding(vocab_size, 16, input_length=max_length),\n",
    "    tf.keras.layers.GlobalAveragePooling1D(),\n",
    "    tf.keras.layers.Dense(32, activation='relu'),\n",
    "    tf.keras.layers.Dropout(0.4),\n",
    "    tf.keras.layers.Dense(1, activation='sigmoid')\n",
    "])"
   ]
  },
  {
   "cell_type": "code",
   "execution_count": 45,
   "metadata": {},
   "outputs": [
    {
     "name": "stdout",
     "output_type": "stream",
     "text": [
      "Model: \"sequential_2\"\n",
      "_________________________________________________________________\n",
      " Layer (type)                Output Shape              Param #   \n",
      "=================================================================\n",
      " embedding_2 (Embedding)     (None, 50, 16)            16000     \n",
      "                                                                 \n",
      " global_average_pooling1d_2   (None, 16)               0         \n",
      " (GlobalAveragePooling1D)                                        \n",
      "                                                                 \n",
      " dense_4 (Dense)             (None, 32)                544       \n",
      "                                                                 \n",
      " dropout_2 (Dropout)         (None, 32)                0         \n",
      "                                                                 \n",
      " dense_5 (Dense)             (None, 1)                 33        \n",
      "                                                                 \n",
      "=================================================================\n",
      "Total params: 16,577\n",
      "Trainable params: 16,577\n",
      "Non-trainable params: 0\n",
      "_________________________________________________________________\n"
     ]
    }
   ],
   "source": [
    "#compile model\n",
    "model.compile(\n",
    "    loss=tf.keras.losses.BinaryCrossentropy(from_logits=True),\n",
    "    optimizer='adam',\n",
    "    metrics=['accuracy']\n",
    ")\n",
    "\n",
    "#add callbacks\n",
    "callback = tf.keras.callbacks.EarlyStopping(\n",
    "    monitor='val_loss',\n",
    "    patience=5,\n",
    "    verbose=1,\n",
    ")\n",
    "\n",
    "model.summary()"
   ]
  },
  {
   "cell_type": "code",
   "execution_count": 47,
   "metadata": {},
   "outputs": [
    {
     "name": "stdout",
     "output_type": "stream",
     "text": [
      "Epoch 1/25\n"
     ]
    },
    {
     "name": "stderr",
     "output_type": "stream",
     "text": [
      "/Library/Frameworks/Python.framework/Versions/3.10/lib/python3.10/site-packages/tensorflow/python/util/dispatch.py:1082: UserWarning: \"`binary_crossentropy` received `from_logits=True`, but the `output` argument was produced by a sigmoid or softmax activation and thus does not represent logits. Was this intended?\"\n",
      "  return dispatch_target(*args, **kwargs)\n",
      "2022-06-21 17:48:01.832206: I tensorflow/core/grappler/optimizers/custom_graph_optimizer_registry.cc:113] Plugin optimizer for device_type GPU is enabled.\n"
     ]
    },
    {
     "name": "stdout",
     "output_type": "stream",
     "text": [
      "140/140 [==============================] - 3s 20ms/step - loss: 0.4897 - accuracy: 0.8647 - val_loss: 0.3427 - val_accuracy: 0.8592\n",
      "Epoch 2/25\n",
      "  1/140 [..............................] - ETA: 1s - loss: 0.4169 - accuracy: 0.8125"
     ]
    },
    {
     "name": "stderr",
     "output_type": "stream",
     "text": [
      "2022-06-21 17:48:04.593780: I tensorflow/core/grappler/optimizers/custom_graph_optimizer_registry.cc:113] Plugin optimizer for device_type GPU is enabled.\n"
     ]
    },
    {
     "name": "stdout",
     "output_type": "stream",
     "text": [
      "140/140 [==============================] - 2s 12ms/step - loss: 0.2937 - accuracy: 0.8687 - val_loss: 0.2302 - val_accuracy: 0.8807\n",
      "Epoch 3/25\n",
      "140/140 [==============================] - 2s 12ms/step - loss: 0.1678 - accuracy: 0.9419 - val_loss: 0.1374 - val_accuracy: 0.9578\n",
      "Epoch 4/25\n",
      "140/140 [==============================] - 2s 11ms/step - loss: 0.0996 - accuracy: 0.9731 - val_loss: 0.0956 - val_accuracy: 0.9695\n",
      "Epoch 5/25\n",
      "140/140 [==============================] - 2s 11ms/step - loss: 0.0747 - accuracy: 0.9782 - val_loss: 0.0795 - val_accuracy: 0.9695\n",
      "Epoch 6/25\n",
      "140/140 [==============================] - 2s 11ms/step - loss: 0.0562 - accuracy: 0.9847 - val_loss: 0.0725 - val_accuracy: 0.9731\n",
      "Epoch 7/25\n",
      "140/140 [==============================] - 2s 11ms/step - loss: 0.0498 - accuracy: 0.9861 - val_loss: 0.0638 - val_accuracy: 0.9767\n",
      "Epoch 8/25\n",
      "140/140 [==============================] - 2s 11ms/step - loss: 0.0421 - accuracy: 0.9890 - val_loss: 0.0604 - val_accuracy: 0.9785\n",
      "Epoch 9/25\n",
      "140/140 [==============================] - 2s 12ms/step - loss: 0.0379 - accuracy: 0.9901 - val_loss: 0.0615 - val_accuracy: 0.9785\n",
      "Epoch 10/25\n",
      "140/140 [==============================] - 2s 12ms/step - loss: 0.0344 - accuracy: 0.9915 - val_loss: 0.0608 - val_accuracy: 0.9803\n",
      "Epoch 11/25\n",
      "140/140 [==============================] - 2s 11ms/step - loss: 0.0298 - accuracy: 0.9912 - val_loss: 0.0551 - val_accuracy: 0.9803\n",
      "Epoch 12/25\n",
      "140/140 [==============================] - 2s 11ms/step - loss: 0.0253 - accuracy: 0.9930 - val_loss: 0.0565 - val_accuracy: 0.9803\n",
      "Epoch 13/25\n",
      "140/140 [==============================] - 2s 11ms/step - loss: 0.0243 - accuracy: 0.9939 - val_loss: 0.0536 - val_accuracy: 0.9821\n",
      "Epoch 14/25\n",
      "140/140 [==============================] - 2s 11ms/step - loss: 0.0206 - accuracy: 0.9953 - val_loss: 0.0615 - val_accuracy: 0.9803\n",
      "Epoch 15/25\n",
      "140/140 [==============================] - 2s 11ms/step - loss: 0.0210 - accuracy: 0.9942 - val_loss: 0.0538 - val_accuracy: 0.9839\n",
      "Epoch 16/25\n",
      "140/140 [==============================] - 2s 11ms/step - loss: 0.0184 - accuracy: 0.9944 - val_loss: 0.0563 - val_accuracy: 0.9821\n",
      "Epoch 17/25\n",
      "140/140 [==============================] - 2s 11ms/step - loss: 0.0165 - accuracy: 0.9946 - val_loss: 0.0531 - val_accuracy: 0.9865\n",
      "Epoch 18/25\n",
      "140/140 [==============================] - 2s 11ms/step - loss: 0.0151 - accuracy: 0.9962 - val_loss: 0.0537 - val_accuracy: 0.9857\n",
      "Epoch 19/25\n",
      "140/140 [==============================] - 2s 11ms/step - loss: 0.0135 - accuracy: 0.9966 - val_loss: 0.0595 - val_accuracy: 0.9821\n",
      "Epoch 20/25\n",
      "140/140 [==============================] - 2s 12ms/step - loss: 0.0127 - accuracy: 0.9957 - val_loss: 0.0542 - val_accuracy: 0.9874\n",
      "Epoch 21/25\n",
      "140/140 [==============================] - 2s 11ms/step - loss: 0.0119 - accuracy: 0.9971 - val_loss: 0.0555 - val_accuracy: 0.9874\n",
      "Epoch 22/25\n",
      "140/140 [==============================] - 2s 11ms/step - loss: 0.0101 - accuracy: 0.9978 - val_loss: 0.0583 - val_accuracy: 0.9848\n",
      "Epoch 22: early stopping\n"
     ]
    }
   ],
   "source": [
    "#fit the model\n",
    "history = model.fit(\n",
    "    train_pad,\n",
    "    y_train,\n",
    "    validation_data=(test_pad, y_test),\n",
    "    epochs=25,\n",
    "    callbacks=[callback],\n",
    "    verbose=1\n",
    ")"
   ]
  },
  {
   "cell_type": "code",
   "execution_count": 60,
   "metadata": {},
   "outputs": [
    {
     "name": "stdout",
     "output_type": "stream",
     "text": [
      "35/35 [==============================] - 0s 5ms/step - loss: 0.0583 - accuracy: 0.9848\n",
      "[+] Loss:   5.83%\n",
      "[+] Accuracy: 98.48%\n"
     ]
    }
   ],
   "source": [
    "#evaluate the result\n",
    "result = model.evaluate(test_pad, y_test)\n",
    "\n",
    "loss = result[0]\n",
    "accuracy = result[1]\n",
    "print(f\"[+] Loss:   {loss*100:.2f}%\")\n",
    "print(f\"[+] Accuracy: {accuracy*100:.2f}%\")"
   ]
  },
  {
   "cell_type": "code",
   "execution_count": 61,
   "metadata": {},
   "outputs": [
    {
     "data": {
      "image/png": "[encoded data removed]",
      "text/plain": [
       "<Figure size 432x288 with 1 Axes>"
      ]
     },
     "metadata": {
      "needs_background": "dark"
     },
     "output_type": "display_data"
    }
   ],
   "source": [
    "#visualize the model performance by epoch\n",
    "fig = plt.figure()\n",
    "\n",
    "ax = fig.add_subplot(121)\n",
    "\n",
    "ax.set_xlabel('epoch')\n",
    "ax.set_ylabel('accuracy')\n",
    "\n",
    "ax.xaxis.label.set_color('white')\n",
    "ax.yaxis.label.set_color('white')\n",
    "\n",
    "ax.tick_params(axis='x', colors='white')\n",
    "ax.tick_params(axis='y', colors='white')\n",
    "\n",
    "ax.spines['left'].set_color('white')\n",
    "ax.spines['top'].set_color('white')\n",
    "\n",
    "plt.plot(history.history['accuracy'])\n",
    "plt.plot(history.history['val_accuracy'])\n",
    "\n",
    "plt.show()"
   ]
  },
  {
   "cell_type": "code",
   "execution_count": 62,
   "metadata": {},
   "outputs": [],
   "source": [
    "#spam prediction function\n",
    "def predict(text):\n",
    "    seq = tokenizer.texts_to_sequences(text)\n",
    "    pad = pad_sequences(seq, maxlen=max_length, padding=padding_type, truncating=trunc_type)\n",
    "    return model.predict(pad)"
   ]
  },
  {
   "cell_type": "code",
   "execution_count": 67,
   "metadata": {},
   "outputs": [
    {
     "name": "stdout",
     "output_type": "stream",
     "text": [
      "1/1 [==============================] - 0s 30ms/step\n"
     ]
    },
    {
     "data": {
      "text/plain": [
       "array([[0.0014421 ],\n",
       "       [0.98656625],\n",
       "       [0.00171175],\n",
       "       [0.0017951 ],\n",
       "       [0.77516675]], dtype=float32)"
      ]
     },
     "execution_count": 67,
     "metadata": {},
     "output_type": "execute_result"
    }
   ],
   "source": [
    "#examples\n",
    "sample_text = [\n",
    "    'Greg, can you call me back once you get this?', \n",
    "    'Congrats on your new iPhone! Click here to claim your prize...', \n",
    "    'Really like that new photo of you', \n",
    "    'Did you hear the news today? Terrible what has happened...', \n",
    "    'Attend this free COVID webinar and get testing kit today: Book your session now...'\n",
    "]\n",
    "\n",
    "predict(sample_text)"
   ]
  }
 ],
 "metadata": {
  "interpreter": {
   "hash": "aee8b7b246df8f9039afb4144a1f6fd8d2ca17a180786b69acc140d282b71a49"
  },
  "kernelspec": {
   "display_name": "Python 3.10.2 64-bit",
   "language": "python",
   "name": "python3"
  },
  "language_info": {
   "codemirror_mode": {
    "name": "ipython",
    "version": 3
   },
   "file_extension": ".py",
   "mimetype": "text/x-python",
   "name": "python",
   "nbconvert_exporter": "python",
   "pygments_lexer": "ipython3",
   "version": "3.10.2"
  },
  "orig_nbformat": 4
 },
 "nbformat": 4,
 "nbformat_minor": 2
}
